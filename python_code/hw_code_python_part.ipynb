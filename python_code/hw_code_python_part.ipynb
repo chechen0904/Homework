{
 "cells": [
  {
   "cell_type": "markdown",
   "metadata": {},
   "source": [
    "<big>**1. Understand folder structure. Perform operations on files in different folders.**</big>\n",
    "\n",
    "I set up a Homework folder in my Downloads folder and set up two folders in that folder, called Data and code. Store the data needed next in the data folder, and the completed code will be stored in the Code folder."
   ]
  },
  {
   "cell_type": "code",
   "execution_count": 1,
   "metadata": {},
   "outputs": [
    {
     "name": "stdout",
     "output_type": "stream",
     "text": [
      "/Users/chenche\n"
     ]
    }
   ],
   "source": [
    "cd"
   ]
  },
  {
   "cell_type": "code",
   "execution_count": 2,
   "metadata": {},
   "outputs": [
    {
     "name": "stdout",
     "output_type": "stream",
     "text": [
      "/Users/chenche/Downloads/Homework/data\n"
     ]
    }
   ],
   "source": [
    "cd Downloads/Homework/data"
   ]
  },
  {
   "cell_type": "code",
   "execution_count": 3,
   "metadata": {},
   "outputs": [
    {
     "name": "stdout",
     "output_type": "stream",
     "text": [
      "total 826032\n",
      "drwxr-xr-x  5 chenche  staff        160  1  3 23:53 \u001b[34m.\u001b[m\u001b[m/\n",
      "drwxr-xr-x  8 chenche  staff        256  1  6 21:47 \u001b[34m..\u001b[m\u001b[m/\n",
      "-rw-r--r--@ 1 chenche  staff       6148  1  3 16:31 .DS_Store\n",
      "-rw-r--r--  1 chenche  staff  340928380  1  3 23:53 Motor_Vehicle_Collisions_-_Crashes.csv\n",
      "-rw-r--r--@ 1 chenche  staff   69601296 12 30 11:19 Motor_Vehicle_Collisions_-_Crashes.csv.zip\n"
     ]
    }
   ],
   "source": [
    "ls -aFl"
   ]
  },
  {
   "cell_type": "markdown",
   "metadata": {},
   "source": [
    "Example:\n",
    "\n",
    "When I want to use data in another folder, I can use .. to move back one directory level."
   ]
  },
  {
   "cell_type": "code",
   "execution_count": 4,
   "metadata": {},
   "outputs": [
    {
     "name": "stdout",
     "output_type": "stream",
     "text": [
      "/Users/chenche/Downloads/dc-economics-v2.1/data\n"
     ]
    }
   ],
   "source": [
    "cd ../../dc-economics-v2.1/data/"
   ]
  },
  {
   "cell_type": "code",
   "execution_count": 5,
   "metadata": {},
   "outputs": [
    {
     "data": {
      "text/plain": [
       "'/Users/chenche/Downloads/dc-economics-v2.1/data'"
      ]
     },
     "execution_count": 5,
     "metadata": {},
     "output_type": "execute_result"
    }
   ],
   "source": [
    "pwd"
   ]
  },
  {
   "cell_type": "code",
   "execution_count": 6,
   "metadata": {},
   "outputs": [
    {
     "name": "stdout",
     "output_type": "stream",
     "text": [
      "total 16\n",
      "drwxr-xr-x@  5 chenche  staff   160 11 10 20:28 \u001b[34m.\u001b[m\u001b[m/\n",
      "drwxr-xr-x@ 15 chenche  staff   480  1  5 19:40 \u001b[34m..\u001b[m\u001b[m/\n",
      "-rw-r--r--@  1 chenche  staff  6148 12 26 15:48 .DS_Store\n",
      "drwxr-xr-x@ 38 chenche  staff  1216 11 26 16:19 \u001b[34mderived\u001b[m\u001b[m/\n",
      "drwxr-xr-x@  5 chenche  staff   160 11 10 20:28 \u001b[34mraw\u001b[m\u001b[m/\n"
     ]
    }
   ],
   "source": [
    "ls -aFl"
   ]
  },
  {
   "cell_type": "markdown",
   "metadata": {},
   "source": [
    "Now return to the folder where the data we want to process."
   ]
  },
  {
   "cell_type": "code",
   "execution_count": 7,
   "metadata": {},
   "outputs": [
    {
     "name": "stdout",
     "output_type": "stream",
     "text": [
      "/Users/chenche/Downloads/Homework/data\n"
     ]
    }
   ],
   "source": [
    "cd ~/Downloads/Homework/data"
   ]
  },
  {
   "cell_type": "code",
   "execution_count": 8,
   "metadata": {},
   "outputs": [
    {
     "data": {
      "text/plain": [
       "'/Users/chenche/Downloads/Homework/data'"
      ]
     },
     "execution_count": 8,
     "metadata": {},
     "output_type": "execute_result"
    }
   ],
   "source": [
    "pwd"
   ]
  },
  {
   "cell_type": "code",
   "execution_count": 9,
   "metadata": {},
   "outputs": [
    {
     "name": "stdout",
     "output_type": "stream",
     "text": [
      "total 826032\n",
      "drwxr-xr-x  5 chenche  staff        160  1  3 23:53 \u001b[34m.\u001b[m\u001b[m/\n",
      "drwxr-xr-x  8 chenche  staff        256  1  6 21:47 \u001b[34m..\u001b[m\u001b[m/\n",
      "-rw-r--r--@ 1 chenche  staff       6148  1  3 16:31 .DS_Store\n",
      "-rw-r--r--  1 chenche  staff  340928380  1  3 23:53 Motor_Vehicle_Collisions_-_Crashes.csv\n",
      "-rw-r--r--@ 1 chenche  staff   69601296 12 30 11:19 Motor_Vehicle_Collisions_-_Crashes.csv.zip\n"
     ]
    }
   ],
   "source": [
    "ls -aFl"
   ]
  },
  {
   "cell_type": "markdown",
   "metadata": {},
   "source": [
    "<big>**2. Automate repeating tasks using Python “for” loops.**</big>"
   ]
  },
  {
   "cell_type": "code",
   "execution_count": 10,
   "metadata": {},
   "outputs": [],
   "source": [
    "import csv"
   ]
  },
  {
   "cell_type": "code",
   "execution_count": 11,
   "metadata": {},
   "outputs": [],
   "source": [
    "csv_File = open(\"Motor_Vehicle_Collisions_-_Crashes.csv\", \"r\")\n",
    "reader = csv.reader(csv_File)\n",
    "column_nopj = [row[11] for row in reader]"
   ]
  },
  {
   "cell_type": "markdown",
   "metadata": {},
   "source": [
    "Use for loop to count the total number of people who were not injured in the motor vehicle collisions"
   ]
  },
  {
   "cell_type": "code",
   "execution_count": 12,
   "metadata": {},
   "outputs": [
    {
     "name": "stdout",
     "output_type": "stream",
     "text": [
      "The total number of uninjured persons in the motor vehicle collisions =1740955\n"
     ]
    }
   ],
   "source": [
    "count=0\n",
    "for i in column_nopj:\n",
    "    if i=='0':\n",
    "        count+=1\n",
    "print(\"The total number of uninjured persons in the motor vehicle collisions =\" + str(count))"
   ]
  },
  {
   "cell_type": "markdown",
   "metadata": {},
   "source": [
    "**<big>3. Break up work into smaller components using Python functions.</big>**"
   ]
  },
  {
   "cell_type": "code",
   "execution_count": 13,
   "metadata": {},
   "outputs": [],
   "source": [
    "import pandas as pd\n",
    "import numpy as np"
   ]
  },
  {
   "cell_type": "code",
   "execution_count": 14,
   "metadata": {},
   "outputs": [],
   "source": [
    "MVCdata = pd.read_csv('/Users/chenche/Downloads/Homework/data/Motor_Vehicle_Collisions_-_Crashes.csv')"
   ]
  },
  {
   "cell_type": "markdown",
   "metadata": {},
   "source": [
    "We can use python function to break up the work into smaller component. Define a function using def.\n",
    "\n",
    "For example, assuming that in a Motor Vehicle Collisions, 18 or more people injured is considered a major incident. Now we define a function that can show us all of major incident."
   ]
  },
  {
   "cell_type": "code",
   "execution_count": 17,
   "metadata": {},
   "outputs": [],
   "source": [
    "def major_accident():\n",
    "    df = MVCdata.loc[(MVCdata[\"numberofpersonsinjured\"] > 17), [\"crashdate\", \"collision_id\", \"numberofpersonsinjured\"]]\n",
    "    print(df)"
   ]
  },
  {
   "cell_type": "code",
   "execution_count": 18,
   "metadata": {},
   "outputs": [
    {
     "name": "stdout",
     "output_type": "stream",
     "text": [
      "          crashdate  collision_id  numberofpersonsinjured\n",
      "10602    11/16/2018     4029520.0                    20.0\n",
      "249379   11/27/2019     4249601.0                    20.0\n",
      "313215   10/10/2017     4025003.0                    31.0\n",
      "444874   06/10/2019     4149518.0                    18.0\n",
      "495621   04/06/2018     3876246.0                    22.0\n",
      "667442   05/26/2017     3678545.0                    19.0\n",
      "688848   06/21/2017     3701516.0                    19.0\n",
      "764709   06/14/2017     3692079.0                    18.0\n",
      "826255   05/18/2017     3673559.0                    27.0\n",
      "952936   08/12/2016     3500865.0                    18.0\n",
      "982584   08/13/2015     3278035.0                    19.0\n",
      "993542   06/26/2016     3470165.0                    19.0\n",
      "1183639  06/08/2015     3237061.0                    22.0\n",
      "1264463  04/17/2015     3204269.0                    32.0\n",
      "1297317  09/09/2013      183929.0                    43.0\n",
      "1320003  07/22/2013      181455.0                    24.0\n",
      "1340540  02/04/2015     3164171.0                    22.0\n",
      "1365881  01/07/2015     3148869.0                    24.0\n",
      "1655745  02/04/2014      170324.0                    18.0\n",
      "1716812  08/01/2012     2879058.0                    24.0\n"
     ]
    }
   ],
   "source": [
    "major_accident()"
   ]
  },
  {
   "cell_type": "markdown",
   "metadata": {},
   "source": [
    "<big>**4. Use Python “lists” and “dictionaries” appropriately. Demonstrate one of the two.**</big>"
   ]
  },
  {
   "cell_type": "markdown",
   "metadata": {},
   "source": [
    "Demonstrate use Python \"list\" appropriately. "
   ]
  },
  {
   "cell_type": "code",
   "execution_count": 20,
   "metadata": {},
   "outputs": [
    {
     "name": "stdout",
     "output_type": "stream",
     "text": [
      "[[1.0, 4033796.0, 'Tractor Truck Diesel'], [0.0, 4042419.0, 'Sedan'], [0.0, 4044189.0, 'Sedan']]\n"
     ]
    }
   ],
   "source": [
    "MVCdata1 = pd.read_csv('/Users/chenche/Downloads/Homework/data/Motor_Vehicle_Collisions_-_Crashes.csv', usecols = ['collision_id', 'numberofpersonsinjured', 'vehicletypecode1'])\n",
    "MVCdata2 = MVCdata1.iloc[[1,2,3]]\n",
    "MVCdatalist = MVCdata2.values.tolist()\n",
    "print(MVCdatalist)"
   ]
  },
  {
   "cell_type": "code",
   "execution_count": 21,
   "metadata": {},
   "outputs": [
    {
     "data": {
      "text/plain": [
       "list"
      ]
     },
     "execution_count": 21,
     "metadata": {},
     "output_type": "execute_result"
    }
   ],
   "source": [
    "type(MVCdatalist)"
   ]
  },
  {
   "cell_type": "code",
   "execution_count": 22,
   "metadata": {},
   "outputs": [
    {
     "data": {
      "text/plain": [
       "[[1.0, 4033796.0, 'Tractor Truck Diesel'],\n",
       " [0.0, 4042419.0, 'Sedan'],\n",
       " [0.0, 4044189.0, 'Sedan']]"
      ]
     },
     "execution_count": 22,
     "metadata": {},
     "output_type": "execute_result"
    }
   ],
   "source": [
    "MVCdatalist[:]"
   ]
  },
  {
   "cell_type": "code",
   "execution_count": 23,
   "metadata": {},
   "outputs": [
    {
     "data": {
      "text/plain": [
       "[[0.0, 4042419.0, 'Sedan'], [0.0, 4044189.0, 'Sedan']]"
      ]
     },
     "execution_count": 23,
     "metadata": {},
     "output_type": "execute_result"
    }
   ],
   "source": [
    "MVCdatalist[1:3]"
   ]
  },
  {
   "cell_type": "code",
   "execution_count": 24,
   "metadata": {},
   "outputs": [
    {
     "data": {
      "text/plain": [
       "[[1.0, 4033796.0, 'Tractor Truck Diesel'],\n",
       " [0.0, 4042419.0, 'Sedan'],\n",
       " [0.0, 4044189.0, 'Sedan'],\n",
       " [0, 4378223, 'Sedan']]"
      ]
     },
     "execution_count": 24,
     "metadata": {},
     "output_type": "execute_result"
    }
   ],
   "source": [
    "MVCdatalist = MVCdatalist + [[0, 4378223, 'Sedan']]\n",
    "MVCdatalist"
   ]
  },
  {
   "cell_type": "code",
   "execution_count": 25,
   "metadata": {},
   "outputs": [
    {
     "data": {
      "text/plain": [
       "[[1.0, 4033796.0, 'Tractor Truck Diesel'],\n",
       " [0.0, 4042419.0, 'Sedan'],\n",
       " [0.0, 4044189.0, 'Sedan']]"
      ]
     },
     "execution_count": 25,
     "metadata": {},
     "output_type": "execute_result"
    }
   ],
   "source": [
    "del[MVCdatalist[3]] \n",
    "MVCdatalist"
   ]
  },
  {
   "cell_type": "code",
   "execution_count": 26,
   "metadata": {},
   "outputs": [
    {
     "name": "stdout",
     "output_type": "stream",
     "text": [
      "MVCdatalist: [[1.0, 4033796.0, 'Tractor Truck Diesel'], [0.0, 4042419.0, 'Sedan'], [0.0, 4044189.0, 'Sedan']]\n",
      "length: 3\n"
     ]
    }
   ],
   "source": [
    "print('MVCdatalist:', MVCdatalist)\n",
    "print('length:', len(MVCdatalist))"
   ]
  },
  {
   "cell_type": "code",
   "execution_count": 27,
   "metadata": {},
   "outputs": [
    {
     "name": "stdout",
     "output_type": "stream",
     "text": [
      "MCVdatalist: [[1.0, 4033796.0, 'Tractor Truck Diesel'], [0.0, 4042419.0, 'Sedan'], [0.0, 4044189.0, 'Sedan'], [1, 4378361, 'Station Wagon/Sport Utility Vehicle']]\n"
     ]
    }
   ],
   "source": [
    "MVCdatalist.append([1, 4378361, 'Station Wagon/Sport Utility Vehicle'])\n",
    "print('MCVdatalist:', MVCdatalist)"
   ]
  },
  {
   "cell_type": "markdown",
   "metadata": {},
   "source": [
    "<big>**9. Aggregate, reshape, and combine data for analysis in Python or Stata. Demonstrate at least one of these data manipulations.**</big>"
   ]
  },
  {
   "cell_type": "markdown",
   "metadata": {},
   "source": [
    "I choose to demonstrate combine data for analysis in Python.\n",
    "\n",
    "**1. append**"
   ]
  },
  {
   "cell_type": "code",
   "execution_count": 28,
   "metadata": {},
   "outputs": [],
   "source": [
    "MVCdata3 = pd.read_csv('/Users/chenche/Downloads/Homework/data/Motor_Vehicle_Collisions_-_Crashes.csv', usecols = ['vehicletypecode1'])\n",
    "MVCdata4 = MVCdata3.iloc[[1,2,3]]\n",
    "MVCdata5 = MVCdata3.iloc[[4,5,6]]"
   ]
  },
  {
   "cell_type": "code",
   "execution_count": 29,
   "metadata": {},
   "outputs": [
    {
     "name": "stdout",
     "output_type": "stream",
     "text": [
      "       vehicletypecode1\n",
      "1  Tractor Truck Diesel\n",
      "2                 Sedan\n",
      "3                 Sedan\n"
     ]
    }
   ],
   "source": [
    "print(MVCdata4)"
   ]
  },
  {
   "cell_type": "code",
   "execution_count": 30,
   "metadata": {},
   "outputs": [
    {
     "name": "stdout",
     "output_type": "stream",
     "text": [
      "                      vehicletypecode1\n",
      "4  Station Wagon/Sport Utility Vehicle\n",
      "5                                Sedan\n",
      "6                                 Taxi\n"
     ]
    }
   ],
   "source": [
    "print(MVCdata5)"
   ]
  },
  {
   "cell_type": "code",
   "execution_count": 31,
   "metadata": {},
   "outputs": [
    {
     "name": "stdout",
     "output_type": "stream",
     "text": [
      "                      vehicletypecode1\n",
      "1                 Tractor Truck Diesel\n",
      "2                                Sedan\n",
      "3                                Sedan\n",
      "4  Station Wagon/Sport Utility Vehicle\n",
      "5                                Sedan\n",
      "6                                 Taxi\n"
     ]
    }
   ],
   "source": [
    "MVC_append_result = MVCdata4.append(MVCdata5)\n",
    "print(MVC_append_result)"
   ]
  },
  {
   "cell_type": "markdown",
   "metadata": {},
   "source": [
    "**2. merge**"
   ]
  },
  {
   "cell_type": "code",
   "execution_count": 33,
   "metadata": {},
   "outputs": [
    {
     "name": "stdout",
     "output_type": "stream",
     "text": [
      "   collision_id      vehicletypecode1\n",
      "1     4033796.0  Tractor Truck Diesel\n",
      "2     4042419.0                 Sedan\n",
      "3     4044189.0                 Sedan\n"
     ]
    }
   ],
   "source": [
    "MVCdata7 = pd.read_csv('/Users/chenche/Downloads/Homework/data/Motor_Vehicle_Collisions_-_Crashes.csv', usecols = ['collision_id', 'vehicletypecode1'])\n",
    "MVCdata8 = MVCdata7.iloc[[1,2,3]]\n",
    "print(MVCdata8)"
   ]
  },
  {
   "cell_type": "code",
   "execution_count": 36,
   "metadata": {},
   "outputs": [
    {
     "name": "stdout",
     "output_type": "stream",
     "text": [
      "   numberofpersonsinjured      vehicletypecode1\n",
      "1                     1.0  Tractor Truck Diesel\n",
      "2                     0.0                 Sedan\n",
      "3                     0.0                 Sedan\n"
     ]
    }
   ],
   "source": [
    "MVCdata9 = pd.read_csv('/Users/chenche/Downloads/Homework/data/Motor_Vehicle_Collisions_-_Crashes.csv', usecols = ['vehicletypecode1', 'numberofpersonsinjured'])\n",
    "MVCdata10 = MVCdata9.iloc[[1,2,3]]\n",
    "print(MVCdata10)"
   ]
  },
  {
   "cell_type": "code",
   "execution_count": 38,
   "metadata": {},
   "outputs": [
    {
     "data": {
      "text/html": [
       "<div>\n",
       "<style scoped>\n",
       "    .dataframe tbody tr th:only-of-type {\n",
       "        vertical-align: middle;\n",
       "    }\n",
       "\n",
       "    .dataframe tbody tr th {\n",
       "        vertical-align: top;\n",
       "    }\n",
       "\n",
       "    .dataframe thead th {\n",
       "        text-align: right;\n",
       "    }\n",
       "</style>\n",
       "<table border=\"1\" class=\"dataframe\">\n",
       "  <thead>\n",
       "    <tr style=\"text-align: right;\">\n",
       "      <th></th>\n",
       "      <th>collision_id</th>\n",
       "      <th>vehicletypecode1</th>\n",
       "      <th>numberofpersonsinjured</th>\n",
       "    </tr>\n",
       "  </thead>\n",
       "  <tbody>\n",
       "    <tr>\n",
       "      <th>0</th>\n",
       "      <td>4033796.0</td>\n",
       "      <td>Tractor Truck Diesel</td>\n",
       "      <td>1.0</td>\n",
       "    </tr>\n",
       "    <tr>\n",
       "      <th>1</th>\n",
       "      <td>4042419.0</td>\n",
       "      <td>Sedan</td>\n",
       "      <td>0.0</td>\n",
       "    </tr>\n",
       "    <tr>\n",
       "      <th>2</th>\n",
       "      <td>4042419.0</td>\n",
       "      <td>Sedan</td>\n",
       "      <td>0.0</td>\n",
       "    </tr>\n",
       "    <tr>\n",
       "      <th>3</th>\n",
       "      <td>4044189.0</td>\n",
       "      <td>Sedan</td>\n",
       "      <td>0.0</td>\n",
       "    </tr>\n",
       "    <tr>\n",
       "      <th>4</th>\n",
       "      <td>4044189.0</td>\n",
       "      <td>Sedan</td>\n",
       "      <td>0.0</td>\n",
       "    </tr>\n",
       "  </tbody>\n",
       "</table>\n",
       "</div>"
      ],
      "text/plain": [
       "   collision_id      vehicletypecode1  numberofpersonsinjured\n",
       "0     4033796.0  Tractor Truck Diesel                     1.0\n",
       "1     4042419.0                 Sedan                     0.0\n",
       "2     4042419.0                 Sedan                     0.0\n",
       "3     4044189.0                 Sedan                     0.0\n",
       "4     4044189.0                 Sedan                     0.0"
      ]
     },
     "execution_count": 38,
     "metadata": {},
     "output_type": "execute_result"
    }
   ],
   "source": [
    "MVC_merge_result = pd.merge(MVCdata8, MVCdata10, on = 'vehicletypecode1')\n",
    "MVC_merge_result"
   ]
  },
  {
   "cell_type": "markdown",
   "metadata": {},
   "source": [
    "**3. Combine two columns into one column**\n",
    "\n",
    "For example, combine the CRASH DATE and CRASH TIME columns into a column, then convert it to datetime format."
   ]
  },
  {
   "cell_type": "code",
   "execution_count": 39,
   "metadata": {},
   "outputs": [
    {
     "data": {
      "text/html": [
       "<div>\n",
       "<style scoped>\n",
       "    .dataframe tbody tr th:only-of-type {\n",
       "        vertical-align: middle;\n",
       "    }\n",
       "\n",
       "    .dataframe tbody tr th {\n",
       "        vertical-align: top;\n",
       "    }\n",
       "\n",
       "    .dataframe thead th {\n",
       "        text-align: right;\n",
       "    }\n",
       "</style>\n",
       "<table border=\"1\" class=\"dataframe\">\n",
       "  <thead>\n",
       "    <tr style=\"text-align: right;\">\n",
       "      <th></th>\n",
       "      <th>crashdate</th>\n",
       "      <th>crashtime</th>\n",
       "      <th>borough</th>\n",
       "      <th>zipcode</th>\n",
       "      <th>latitude</th>\n",
       "      <th>longitude</th>\n",
       "      <th>location</th>\n",
       "      <th>onstreetname</th>\n",
       "      <th>crossstreetname</th>\n",
       "      <th>offstreetname</th>\n",
       "      <th>...</th>\n",
       "      <th>contributingfactorvehicle2</th>\n",
       "      <th>contributingfactorvehicle3</th>\n",
       "      <th>contributingfactorvehicle4</th>\n",
       "      <th>contributingfactorvehicle5</th>\n",
       "      <th>collision_id</th>\n",
       "      <th>vehicletypecode1</th>\n",
       "      <th>vehicletypecode2</th>\n",
       "      <th>vehicletypecode3</th>\n",
       "      <th>vehicletypecode4</th>\n",
       "      <th>vehicletypecode5</th>\n",
       "    </tr>\n",
       "  </thead>\n",
       "  <tbody>\n",
       "    <tr>\n",
       "      <th>0</th>\n",
       "      <td>12/14/2018</td>\n",
       "      <td>18:45</td>\n",
       "      <td>MANHATTAN</td>\n",
       "      <td>10027.0</td>\n",
       "      <td>40.810318</td>\n",
       "      <td>-73.943634</td>\n",
       "      <td>\"(40.810318, -73.943634)\"</td>\n",
       "      <td>LENOX AVENUE</td>\n",
       "      <td>WEST 129 STREET</td>\n",
       "      <td>NaN</td>\n",
       "      <td>...</td>\n",
       "      <td>NaN</td>\n",
       "      <td>NaN</td>\n",
       "      <td>NaN</td>\n",
       "      <td>NaN</td>\n",
       "      <td>4047029.0</td>\n",
       "      <td>Station Wagon/Sport Utility Vehicle</td>\n",
       "      <td>NaN</td>\n",
       "      <td>NaN</td>\n",
       "      <td>NaN</td>\n",
       "      <td>NaN</td>\n",
       "    </tr>\n",
       "    <tr>\n",
       "      <th>1</th>\n",
       "      <td>11/27/2018</td>\n",
       "      <td>13:40</td>\n",
       "      <td>MANHATTAN</td>\n",
       "      <td>10036.0</td>\n",
       "      <td>40.757435</td>\n",
       "      <td>-73.990265</td>\n",
       "      <td>\"(40.757435, -73.990265)\"</td>\n",
       "      <td>NaN</td>\n",
       "      <td>NaN</td>\n",
       "      <td>303       WEST 42 STREET</td>\n",
       "      <td>...</td>\n",
       "      <td>Unspecified</td>\n",
       "      <td>Unspecified</td>\n",
       "      <td>NaN</td>\n",
       "      <td>NaN</td>\n",
       "      <td>4033796.0</td>\n",
       "      <td>Tractor Truck Diesel</td>\n",
       "      <td>Bike</td>\n",
       "      <td>Bus</td>\n",
       "      <td>NaN</td>\n",
       "      <td>NaN</td>\n",
       "    </tr>\n",
       "    <tr>\n",
       "      <th>2</th>\n",
       "      <td>12/10/2018</td>\n",
       "      <td>17:50</td>\n",
       "      <td>NaN</td>\n",
       "      <td>NaN</td>\n",
       "      <td>40.617554</td>\n",
       "      <td>-74.152611</td>\n",
       "      <td>\"(40.617554, -74.15261)\"</td>\n",
       "      <td>DEPPE PLACE</td>\n",
       "      <td>WILLOW ROAD WEST</td>\n",
       "      <td>NaN</td>\n",
       "      <td>...</td>\n",
       "      <td>Driver Inattention/Distraction</td>\n",
       "      <td>NaN</td>\n",
       "      <td>NaN</td>\n",
       "      <td>NaN</td>\n",
       "      <td>4042419.0</td>\n",
       "      <td>Sedan</td>\n",
       "      <td>Sedan</td>\n",
       "      <td>NaN</td>\n",
       "      <td>NaN</td>\n",
       "      <td>NaN</td>\n",
       "    </tr>\n",
       "    <tr>\n",
       "      <th>3</th>\n",
       "      <td>12/13/2018</td>\n",
       "      <td>19:30</td>\n",
       "      <td>NaN</td>\n",
       "      <td>NaN</td>\n",
       "      <td>40.697556</td>\n",
       "      <td>-73.852776</td>\n",
       "      <td>\"(40.697556, -73.852776)\"</td>\n",
       "      <td>WOODHAVEN BOULEVARD</td>\n",
       "      <td>NaN</td>\n",
       "      <td>NaN</td>\n",
       "      <td>...</td>\n",
       "      <td>Unspecified</td>\n",
       "      <td>NaN</td>\n",
       "      <td>NaN</td>\n",
       "      <td>NaN</td>\n",
       "      <td>4044189.0</td>\n",
       "      <td>Sedan</td>\n",
       "      <td>Sedan</td>\n",
       "      <td>NaN</td>\n",
       "      <td>NaN</td>\n",
       "      <td>NaN</td>\n",
       "    </tr>\n",
       "    <tr>\n",
       "      <th>4</th>\n",
       "      <td>12/13/2018</td>\n",
       "      <td>23:30</td>\n",
       "      <td>MANHATTAN</td>\n",
       "      <td>10018.0</td>\n",
       "      <td>40.757732</td>\n",
       "      <td>-73.996857</td>\n",
       "      <td>\"(40.757732, -73.99686)\"</td>\n",
       "      <td>10 AVENUE</td>\n",
       "      <td>WEST 39 STREET</td>\n",
       "      <td>NaN</td>\n",
       "      <td>...</td>\n",
       "      <td>Passing or Lane Usage Improper</td>\n",
       "      <td>NaN</td>\n",
       "      <td>NaN</td>\n",
       "      <td>NaN</td>\n",
       "      <td>4047898.0</td>\n",
       "      <td>Station Wagon/Sport Utility Vehicle</td>\n",
       "      <td>Taxi</td>\n",
       "      <td>NaN</td>\n",
       "      <td>NaN</td>\n",
       "      <td>NaN</td>\n",
       "    </tr>\n",
       "  </tbody>\n",
       "</table>\n",
       "<p>5 rows × 29 columns</p>\n",
       "</div>"
      ],
      "text/plain": [
       "    crashdate crashtime    borough  zipcode   latitude  longitude  \\\n",
       "0  12/14/2018     18:45  MANHATTAN  10027.0  40.810318 -73.943634   \n",
       "1  11/27/2018     13:40  MANHATTAN  10036.0  40.757435 -73.990265   \n",
       "2  12/10/2018     17:50        NaN      NaN  40.617554 -74.152611   \n",
       "3  12/13/2018     19:30        NaN      NaN  40.697556 -73.852776   \n",
       "4  12/13/2018     23:30  MANHATTAN  10018.0  40.757732 -73.996857   \n",
       "\n",
       "                    location         onstreetname   crossstreetname  \\\n",
       "0  \"(40.810318, -73.943634)\"         LENOX AVENUE   WEST 129 STREET   \n",
       "1  \"(40.757435, -73.990265)\"                  NaN               NaN   \n",
       "2   \"(40.617554, -74.15261)\"          DEPPE PLACE  WILLOW ROAD WEST   \n",
       "3  \"(40.697556, -73.852776)\"  WOODHAVEN BOULEVARD               NaN   \n",
       "4   \"(40.757732, -73.99686)\"            10 AVENUE    WEST 39 STREET   \n",
       "\n",
       "              offstreetname  ...      contributingfactorvehicle2  \\\n",
       "0                       NaN  ...                             NaN   \n",
       "1  303       WEST 42 STREET  ...                     Unspecified   \n",
       "2                       NaN  ...  Driver Inattention/Distraction   \n",
       "3                       NaN  ...                     Unspecified   \n",
       "4                       NaN  ...  Passing or Lane Usage Improper   \n",
       "\n",
       "   contributingfactorvehicle3  contributingfactorvehicle4  \\\n",
       "0                         NaN                         NaN   \n",
       "1                 Unspecified                         NaN   \n",
       "2                         NaN                         NaN   \n",
       "3                         NaN                         NaN   \n",
       "4                         NaN                         NaN   \n",
       "\n",
       "   contributingfactorvehicle5  collision_id  \\\n",
       "0                         NaN     4047029.0   \n",
       "1                         NaN     4033796.0   \n",
       "2                         NaN     4042419.0   \n",
       "3                         NaN     4044189.0   \n",
       "4                         NaN     4047898.0   \n",
       "\n",
       "                      vehicletypecode1  vehicletypecode2  vehicletypecode3  \\\n",
       "0  Station Wagon/Sport Utility Vehicle               NaN               NaN   \n",
       "1                 Tractor Truck Diesel              Bike               Bus   \n",
       "2                                Sedan             Sedan               NaN   \n",
       "3                                Sedan             Sedan               NaN   \n",
       "4  Station Wagon/Sport Utility Vehicle              Taxi               NaN   \n",
       "\n",
       "  vehicletypecode4 vehicletypecode5  \n",
       "0              NaN              NaN  \n",
       "1              NaN              NaN  \n",
       "2              NaN              NaN  \n",
       "3              NaN              NaN  \n",
       "4              NaN              NaN  \n",
       "\n",
       "[5 rows x 29 columns]"
      ]
     },
     "execution_count": 39,
     "metadata": {},
     "output_type": "execute_result"
    }
   ],
   "source": [
    "MVCdata.head()"
   ]
  },
  {
   "cell_type": "code",
   "execution_count": 40,
   "metadata": {},
   "outputs": [
    {
     "data": {
      "text/html": [
       "<div>\n",
       "<style scoped>\n",
       "    .dataframe tbody tr th:only-of-type {\n",
       "        vertical-align: middle;\n",
       "    }\n",
       "\n",
       "    .dataframe tbody tr th {\n",
       "        vertical-align: top;\n",
       "    }\n",
       "\n",
       "    .dataframe thead th {\n",
       "        text-align: right;\n",
       "    }\n",
       "</style>\n",
       "<table border=\"1\" class=\"dataframe\">\n",
       "  <thead>\n",
       "    <tr style=\"text-align: right;\">\n",
       "      <th></th>\n",
       "      <th>crashdate</th>\n",
       "      <th>borough</th>\n",
       "      <th>zipcode</th>\n",
       "      <th>latitude</th>\n",
       "      <th>longitude</th>\n",
       "      <th>location</th>\n",
       "      <th>onstreetname</th>\n",
       "      <th>crossstreetname</th>\n",
       "      <th>offstreetname</th>\n",
       "      <th>numberofpersonsinjured</th>\n",
       "      <th>...</th>\n",
       "      <th>contributingfactorvehicle2</th>\n",
       "      <th>contributingfactorvehicle3</th>\n",
       "      <th>contributingfactorvehicle4</th>\n",
       "      <th>contributingfactorvehicle5</th>\n",
       "      <th>collision_id</th>\n",
       "      <th>vehicletypecode1</th>\n",
       "      <th>vehicletypecode2</th>\n",
       "      <th>vehicletypecode3</th>\n",
       "      <th>vehicletypecode4</th>\n",
       "      <th>vehicletypecode5</th>\n",
       "    </tr>\n",
       "  </thead>\n",
       "  <tbody>\n",
       "    <tr>\n",
       "      <th>0</th>\n",
       "      <td>2018-12-14 18:45:00</td>\n",
       "      <td>MANHATTAN</td>\n",
       "      <td>10027.0</td>\n",
       "      <td>40.810318</td>\n",
       "      <td>-73.943634</td>\n",
       "      <td>\"(40.810318, -73.943634)\"</td>\n",
       "      <td>LENOX AVENUE</td>\n",
       "      <td>WEST 129 STREET</td>\n",
       "      <td>NaN</td>\n",
       "      <td>0.0</td>\n",
       "      <td>...</td>\n",
       "      <td>NaN</td>\n",
       "      <td>NaN</td>\n",
       "      <td>NaN</td>\n",
       "      <td>NaN</td>\n",
       "      <td>4047029.0</td>\n",
       "      <td>Station Wagon/Sport Utility Vehicle</td>\n",
       "      <td>NaN</td>\n",
       "      <td>NaN</td>\n",
       "      <td>NaN</td>\n",
       "      <td>NaN</td>\n",
       "    </tr>\n",
       "    <tr>\n",
       "      <th>1</th>\n",
       "      <td>2018-11-27 13:40:00</td>\n",
       "      <td>MANHATTAN</td>\n",
       "      <td>10036.0</td>\n",
       "      <td>40.757435</td>\n",
       "      <td>-73.990265</td>\n",
       "      <td>\"(40.757435, -73.990265)\"</td>\n",
       "      <td>NaN</td>\n",
       "      <td>NaN</td>\n",
       "      <td>303       WEST 42 STREET</td>\n",
       "      <td>1.0</td>\n",
       "      <td>...</td>\n",
       "      <td>Unspecified</td>\n",
       "      <td>Unspecified</td>\n",
       "      <td>NaN</td>\n",
       "      <td>NaN</td>\n",
       "      <td>4033796.0</td>\n",
       "      <td>Tractor Truck Diesel</td>\n",
       "      <td>Bike</td>\n",
       "      <td>Bus</td>\n",
       "      <td>NaN</td>\n",
       "      <td>NaN</td>\n",
       "    </tr>\n",
       "    <tr>\n",
       "      <th>2</th>\n",
       "      <td>2018-12-10 17:50:00</td>\n",
       "      <td>NaN</td>\n",
       "      <td>NaN</td>\n",
       "      <td>40.617554</td>\n",
       "      <td>-74.152611</td>\n",
       "      <td>\"(40.617554, -74.15261)\"</td>\n",
       "      <td>DEPPE PLACE</td>\n",
       "      <td>WILLOW ROAD WEST</td>\n",
       "      <td>NaN</td>\n",
       "      <td>0.0</td>\n",
       "      <td>...</td>\n",
       "      <td>Driver Inattention/Distraction</td>\n",
       "      <td>NaN</td>\n",
       "      <td>NaN</td>\n",
       "      <td>NaN</td>\n",
       "      <td>4042419.0</td>\n",
       "      <td>Sedan</td>\n",
       "      <td>Sedan</td>\n",
       "      <td>NaN</td>\n",
       "      <td>NaN</td>\n",
       "      <td>NaN</td>\n",
       "    </tr>\n",
       "    <tr>\n",
       "      <th>3</th>\n",
       "      <td>2018-12-13 19:30:00</td>\n",
       "      <td>NaN</td>\n",
       "      <td>NaN</td>\n",
       "      <td>40.697556</td>\n",
       "      <td>-73.852776</td>\n",
       "      <td>\"(40.697556, -73.852776)\"</td>\n",
       "      <td>WOODHAVEN BOULEVARD</td>\n",
       "      <td>NaN</td>\n",
       "      <td>NaN</td>\n",
       "      <td>0.0</td>\n",
       "      <td>...</td>\n",
       "      <td>Unspecified</td>\n",
       "      <td>NaN</td>\n",
       "      <td>NaN</td>\n",
       "      <td>NaN</td>\n",
       "      <td>4044189.0</td>\n",
       "      <td>Sedan</td>\n",
       "      <td>Sedan</td>\n",
       "      <td>NaN</td>\n",
       "      <td>NaN</td>\n",
       "      <td>NaN</td>\n",
       "    </tr>\n",
       "    <tr>\n",
       "      <th>4</th>\n",
       "      <td>2018-12-13 23:30:00</td>\n",
       "      <td>MANHATTAN</td>\n",
       "      <td>10018.0</td>\n",
       "      <td>40.757732</td>\n",
       "      <td>-73.996857</td>\n",
       "      <td>\"(40.757732, -73.99686)\"</td>\n",
       "      <td>10 AVENUE</td>\n",
       "      <td>WEST 39 STREET</td>\n",
       "      <td>NaN</td>\n",
       "      <td>0.0</td>\n",
       "      <td>...</td>\n",
       "      <td>Passing or Lane Usage Improper</td>\n",
       "      <td>NaN</td>\n",
       "      <td>NaN</td>\n",
       "      <td>NaN</td>\n",
       "      <td>4047898.0</td>\n",
       "      <td>Station Wagon/Sport Utility Vehicle</td>\n",
       "      <td>Taxi</td>\n",
       "      <td>NaN</td>\n",
       "      <td>NaN</td>\n",
       "      <td>NaN</td>\n",
       "    </tr>\n",
       "  </tbody>\n",
       "</table>\n",
       "<p>5 rows × 28 columns</p>\n",
       "</div>"
      ],
      "text/plain": [
       "            crashdate    borough  zipcode   latitude  longitude  \\\n",
       "0 2018-12-14 18:45:00  MANHATTAN  10027.0  40.810318 -73.943634   \n",
       "1 2018-11-27 13:40:00  MANHATTAN  10036.0  40.757435 -73.990265   \n",
       "2 2018-12-10 17:50:00        NaN      NaN  40.617554 -74.152611   \n",
       "3 2018-12-13 19:30:00        NaN      NaN  40.697556 -73.852776   \n",
       "4 2018-12-13 23:30:00  MANHATTAN  10018.0  40.757732 -73.996857   \n",
       "\n",
       "                    location         onstreetname   crossstreetname  \\\n",
       "0  \"(40.810318, -73.943634)\"         LENOX AVENUE   WEST 129 STREET   \n",
       "1  \"(40.757435, -73.990265)\"                  NaN               NaN   \n",
       "2   \"(40.617554, -74.15261)\"          DEPPE PLACE  WILLOW ROAD WEST   \n",
       "3  \"(40.697556, -73.852776)\"  WOODHAVEN BOULEVARD               NaN   \n",
       "4   \"(40.757732, -73.99686)\"            10 AVENUE    WEST 39 STREET   \n",
       "\n",
       "              offstreetname  numberofpersonsinjured  ...  \\\n",
       "0                       NaN                     0.0  ...   \n",
       "1  303       WEST 42 STREET                     1.0  ...   \n",
       "2                       NaN                     0.0  ...   \n",
       "3                       NaN                     0.0  ...   \n",
       "4                       NaN                     0.0  ...   \n",
       "\n",
       "       contributingfactorvehicle2  contributingfactorvehicle3  \\\n",
       "0                             NaN                         NaN   \n",
       "1                     Unspecified                 Unspecified   \n",
       "2  Driver Inattention/Distraction                         NaN   \n",
       "3                     Unspecified                         NaN   \n",
       "4  Passing or Lane Usage Improper                         NaN   \n",
       "\n",
       "   contributingfactorvehicle4  contributingfactorvehicle5  collision_id  \\\n",
       "0                         NaN                         NaN     4047029.0   \n",
       "1                         NaN                         NaN     4033796.0   \n",
       "2                         NaN                         NaN     4042419.0   \n",
       "3                         NaN                         NaN     4044189.0   \n",
       "4                         NaN                         NaN     4047898.0   \n",
       "\n",
       "                      vehicletypecode1  vehicletypecode2 vehicletypecode3  \\\n",
       "0  Station Wagon/Sport Utility Vehicle               NaN              NaN   \n",
       "1                 Tractor Truck Diesel              Bike              Bus   \n",
       "2                                Sedan             Sedan              NaN   \n",
       "3                                Sedan             Sedan              NaN   \n",
       "4  Station Wagon/Sport Utility Vehicle              Taxi              NaN   \n",
       "\n",
       "  vehicletypecode4 vehicletypecode5  \n",
       "0              NaN              NaN  \n",
       "1              NaN              NaN  \n",
       "2              NaN              NaN  \n",
       "3              NaN              NaN  \n",
       "4              NaN              NaN  \n",
       "\n",
       "[5 rows x 28 columns]"
      ]
     },
     "execution_count": 40,
     "metadata": {},
     "output_type": "execute_result"
    }
   ],
   "source": [
    "MVCdata['crashdate'] = MVCdata['crashdate'] + ' ' + MVCdata['crashtime']\n",
    "MVCdata['crashdate'] = pd.to_datetime(MVCdata['crashdate'], format='%m/%d/%Y %H:%M')\n",
    "MVCdata_new = MVCdata.drop('crashtime',axis = 1)\n",
    "MVCdata_new.head()"
   ]
  }
 ],
 "metadata": {
  "kernelspec": {
   "display_name": "Python 3",
   "language": "python",
   "name": "python3"
  },
  "language_info": {
   "codemirror_mode": {
    "name": "ipython",
    "version": 3
   },
   "file_extension": ".py",
   "mimetype": "text/x-python",
   "name": "python",
   "nbconvert_exporter": "python",
   "pygments_lexer": "ipython3",
   "version": "3.8.3"
  }
 },
 "nbformat": 4,
 "nbformat_minor": 4
}
